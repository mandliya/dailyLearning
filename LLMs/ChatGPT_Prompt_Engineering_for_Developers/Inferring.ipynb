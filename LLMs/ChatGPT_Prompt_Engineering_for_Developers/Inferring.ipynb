{
  "nbformat": 4,
  "nbformat_minor": 0,
  "metadata": {
    "colab": {
      "provenance": [],
      "authorship_tag": "ABX9TyO1bmwyawG5yYmGksegs/RM",
      "include_colab_link": true
    },
    "kernelspec": {
      "name": "python3",
      "display_name": "Python 3"
    },
    "language_info": {
      "name": "python"
    }
  },
  "cells": [
    {
      "cell_type": "markdown",
      "metadata": {
        "id": "view-in-github",
        "colab_type": "text"
      },
      "source": [
        "<a href=\"https://colab.research.google.com/github/mandliya/dailyLearning/blob/main/ChatGPT_Prompt_Engineering_for_Developers/Inferring.ipynb\" target=\"_parent\"><img src=\"https://colab.research.google.com/assets/colab-badge.svg\" alt=\"Open In Colab\"/></a>"
      ]
    },
    {
      "cell_type": "code",
      "execution_count": 1,
      "metadata": {
        "colab": {
          "base_uri": "https://localhost:8080/"
        },
        "id": "yiR0XX60Q3ur",
        "outputId": "1db545fc-311d-45ea-8b86-2376d449bfe9"
      },
      "outputs": [
        {
          "output_type": "stream",
          "name": "stdout",
          "text": [
            "\u001b[2K     \u001b[90m━━━━━━━━━━━━━━━━━━━━━━━━━━━━━━━━━━━━━━━━\u001b[0m \u001b[32m73.6/73.6 kB\u001b[0m \u001b[31m2.7 MB/s\u001b[0m eta \u001b[36m0:00:00\u001b[0m\n",
            "\u001b[2K     \u001b[90m━━━━━━━━━━━━━━━━━━━━━━━━━━━━━━━━━━━━━━━━\u001b[0m \u001b[32m1.0/1.0 MB\u001b[0m \u001b[31m18.1 MB/s\u001b[0m eta \u001b[36m0:00:00\u001b[0m\n",
            "\u001b[2K     \u001b[90m━━━━━━━━━━━━━━━━━━━━━━━━━━━━━━━━━━━━━━\u001b[0m \u001b[32m114.5/114.5 kB\u001b[0m \u001b[31m11.0 MB/s\u001b[0m eta \u001b[36m0:00:00\u001b[0m\n",
            "\u001b[2K     \u001b[90m━━━━━━━━━━━━━━━━━━━━━━━━━━━━━━━━━━━━━━\u001b[0m \u001b[32m268.8/268.8 kB\u001b[0m \u001b[31m21.1 MB/s\u001b[0m eta \u001b[36m0:00:00\u001b[0m\n",
            "\u001b[2K     \u001b[90m━━━━━━━━━━━━━━━━━━━━━━━━━━━━━━━━━━━━━━\u001b[0m \u001b[32m149.6/149.6 kB\u001b[0m \u001b[31m13.3 MB/s\u001b[0m eta \u001b[36m0:00:00\u001b[0m\n",
            "\u001b[?25h"
          ]
        }
      ],
      "source": [
        "!pip install -qq openai\n",
        "!pip install -qq python-dotenv"
      ]
    },
    {
      "cell_type": "code",
      "source": [
        "import openai\n",
        "import os\n",
        "from IPython.display import display, Markdown, Latex\n",
        "\n",
        "from dotenv import load_dotenv\n",
        "_ = load_dotenv('env_colab')\n",
        "\n",
        "openai.api_key = os.getenv('OPENAI_API_KEY')"
      ],
      "metadata": {
        "id": "c7pPaaXERGQ1"
      },
      "execution_count": 3,
      "outputs": []
    },
    {
      "cell_type": "code",
      "source": [
        "def get_completion(prompt, model=\"gpt-3.5-turbo\"):\n",
        "    messages = [{\"role\": \"user\", \"content\": prompt}]\n",
        "    response = openai.ChatCompletion.create(\n",
        "        model=model,\n",
        "        messages=messages,\n",
        "        temperature=0, # this is the degree of randomness of the model's output\n",
        "    )\n",
        "    return response.choices[0].message[\"content\"]"
      ],
      "metadata": {
        "id": "Gj0I0XsZSHuq"
      },
      "execution_count": 6,
      "outputs": []
    },
    {
      "cell_type": "markdown",
      "source": [
        "# Inferring\n",
        "\n",
        "LLMs can also infer sentiment and topics from product reviews and new articles.\n"
      ],
      "metadata": {
        "id": "c-G6qvwiRnY1"
      }
    },
    {
      "cell_type": "code",
      "source": [
        "text = \"\"\"\n",
        "MUMBAI: An inspired India on Saturday night regained the coveted World Cup after 28 years as they suppressed Sri Lanka with a six-wicket victory in a nerve-wrecking final to script a glorious new chapter in their cricketing history.Chasing 275 for a historic win, the Indians held their nerves as they rode on Gautam Gambhir's 97 and Mahendra Singh Dhoni's unbeaten 91 to overhaul the target with 10 balls to spare and send the cricket-crazy nation into a frenzy.\n",
        "The vociferous, jam-packed crowd at the Wankhede stadium erupted in wild celebrations as Dhoni hit the winning six runs to give India their biggest cricketing moment and crown themselves the ODI world champions, in addition to being the number one Test team.\n",
        "The World Cup title triumph, coming as it did after more than two decades, was doubly special for Sachin Tendulkar since it was the only silverware missing from his collection.\n",
        "It was also a fitting farewell to coach Gary Kirsten, for whom it was the last day in office as the Indian coach.\n",
        "It was a momentous Saturday night marked by high emotion and poignant scenes as India, for long the game's financial power, stamped their supremacy on the field as well, eight years after Sourav Ganguly's team had made an abortive attempt to scale the pinnacle.\n",
        "The players, many of them with tears in their eyes, rushed to the ground to hug each other as Dhoni finished it off in style by hitting a six, as fire crackers lit up the evening sky to mark the moment.\n",
        "The highlight of the Lankan innings was Mahela Jayawardene's rollicking 103 as Sri Lanka capitalised on the batting powerplay to post a decent 274 for six.\n",
        "Electing to bat after winning the toss, Jayawardene used his vast experience to good effect and anchored the Lankan innings together.\n",
        "The islanders, desperate to regain the coveted cup after nearly 15 years, lost wickets at regular intervals against the Indians, who were spurred on by a vociferous jam-packed crowd.\n",
        "The Indian bowlers were disciplined in the first half of the innings but conceded as many as 63 runs in the batting powerplay to undo all the good work.\n",
        "Apart from Jayawardene's 88-ball knock, captain Kumar Sangakkara (48) Tillakaratne Dilshan (33) and Nuwan Kulasekara (32) were the other notable performers.\n",
        "The Indian innings began on a disastrous note as the destructive Virender Sehwag was dismissed in the very second ball of the innings with paceman Lasith Malinga scalping the prized wicket.\n",
        "Sehwag was hit on the pads by an incoming delivery by Malinga as he went for a flick. Umpire Aleem Dar ruled him out before he asked for review but television replays showed that the ball would have hit the stumps.\n",
        "Tendulkar, playing in what probably is his last World Cup game, entertained his home crowd with a couple of delightful boundaries while Gambhir also looked for runs at the other end.\n",
        "The Indians suffered a huge jolt went Malinga struck again by dismissing the champion batsman as he snicked an away-going delivery and captain Sangakkara latched on to a low catch. A hushed silence descended on the Wankhede stadium as he started his walk back to the pavilion.\n",
        "Gambhir drove Kulasekara for a boundary in the extra cover region to notch up 4000 ODI runs while Virat Kohli also pulled the bowler to the boundary in the same over.\n",
        "Gambhir was lucky to get a reprieve in spinner Suraj Randiv's first over when Kulasekara dropped him at the long off region.\n",
        "The third-wicket pair of Gambhir and Kohli put on 83 runs before Dilshan broke the partnership by taking a brilliant acrobatic return catch.\n",
        "The out-of-form Dhoni came ahead of Yuvraj to keep the left-right combination going and was immediately given two 'lives' by the Lankans -- first Sangakkara messing up a stumping chance off Muralitharan and then Dilshan dropping a return catch as he collided with non-striker Gambhir.\n",
        "Dhoni, however, made the most of the Sri Lankan lapses to rediscover his form which had deserted him in the mega event.\n",
        "Dhoni and Gambhir scored at a brisk pace to keep India in the hunt.\n",
        "The pair stitched 109 runs for the fourth wicket before Gambhir paid the price for a horrendous stroke, just three runs short of what would have been a well-deserved century.\n",
        "Gambhir made room to cut the ball but missed it completely to see his stumps dislodged.\n",
        "Earlier, both the Indian new ball bowlers bowled a tidy line and length and did not allow the Sri Lankan openers to get off to a flying start while the fielding was also sharp.\n",
        "Pace spearhead Zaheer's first three overs were maidens and that put some pressure on the two Lankan openers who were not being able to capitalise on the powerplay overs.\n",
        "Dilshan broke the stranglehold by hitting the first boundary of the innings in the 5th over by pulling Sreesanth to the square leg fence.\n",
        "In the same over, he produced a delightful cut to the point for his second boundary.\n",
        "Tharanga looked completely out of sorts at the other end as he found it difficult to find the gaps as Zaheer bowled a searching length right through his opening spell.\n",
        "Zaheer drew first blood in his fourth over by evicting Tharanga with an outgoing delivery and Virender Sehwag holding on to diving catch at first slip much to the delight of a capacity crowd at the stadium. Tharanga scored just two runs off 20 balls.\n",
        "The Lankans could manage just 31 runs in the first ten overs, their lowest in the tournament. That was largely because of Zaheer's excellent first spell of 5-3-6-1.\n",
        "Dilshan and Sangakkara put on 43 runs for the second wicket before Harbhajan Singh struck for his team by getting rid of Dilshan (33), who scored 500 runs in the tournament.\n",
        "Dilshan went for a sweep but the ball hit his gloves and lobbed onto his stumps to trigger off wild celebrations in the galleries.\n",
        "Sangakkara and Jayawardene then took upon themselves the task of rebuilding the innings and the duo scored at a decent pace to steer the team to a comfortable position.\n",
        "Yuvraj Singh, who had a dream tournament with both the bat and the ball, was introduced into the attack in the 22nd over but the two experienced batsmen were not really troubled by his left arm spin.\n",
        "It was Yuvraj who finally broke the 62-run third wicket partnership which was assuming dangerous proportions by dismissing Sangakkara who tried to cut a wide ball outside the off stump but only succeeded in edging the ball to Dhoni behind the stump. His knock of 48 came off 67 balls and contained five boundaries.\n",
        "It was left to the well-settled Jayawardene to hold the innings together and he found an able ally in Thilan Samaraweera to take the Sri Lankan total close to the 180 mark.\n",
        "Yuvraj was again instrumental in breaking the fourth- wicket partnership by accounting for Samaraweera. Umpire Simon Taufel turned down the leg before appeal but the Indians went for the referral and television replays showed that the ball would have hit the stumps.\n",
        "New batsman Chamara Kapugedera did not survive long as he offered a simple catch to Suresh Raina at extra cover off a slower delivery from Zaheer, leaving the visitors in a spot of bother at 182 for five.\n",
        "Jayawardene and Nuwan Kulasekara then teamed up ensure that Sri Lanka had a competitive total on the board as they went about accumulating runs in the batting powerplay, which was taken in the last five overs.\n",
        "Teams: India: Mahendra Singh Dhoni (capt), Virender Sehwag, Gautam Gambhir, Sachin Tendulkar, Virat Kohli, Yuvraj Singh, Suresh Raina, Harbhajan Singh, Zaheer Khan, Shanthakumaran Sreesanth, Munaf Patel.\n",
        "Sri Lanka: Kumar Sangakkara (capt), Mahela Jayawardene, Upul Tharanga, Tillakaratne Dilshan, Thilan Samaraweera, Chamara Kapugedera, Suraj Randiv, Thisara Perera, Nuwan Kulasekara, Lasith Malinga, Muttiah Muralitharan.\n",
        "Umpires: Simon Taufel (AUS) and Aleem Dar (PAK)\n",
        "TV umpire: Ian Gould (ENG)\n",
        "Match referee: Jeff Crowe (NZL)\n",
        "\"\"\""
      ],
      "metadata": {
        "id": "evfL51mURHuW"
      },
      "execution_count": 4,
      "outputs": []
    },
    {
      "cell_type": "code",
      "source": [
        "prompt = f\"\"\"\n",
        "What is the sentiment of the following news article, which is delimited by \\\n",
        "triple backticks?\n",
        "\n",
        "text: ```{text}```\n",
        "\"\"\"\n",
        "\n",
        "response = get_completion(prompt)\n",
        "display(Markdown(response))"
      ],
      "metadata": {
        "colab": {
          "base_uri": "https://localhost:8080/",
          "height": 46
        },
        "id": "52j8qwl5R206",
        "outputId": "fe9f4d40-e475-4e77-e378-5b91782aca8e"
      },
      "execution_count": 7,
      "outputs": [
        {
          "output_type": "display_data",
          "data": {
            "text/plain": [
              "<IPython.core.display.Markdown object>"
            ],
            "text/markdown": "The sentiment of the news article is positive, as it describes India's victory in the World Cup and the celebrations that followed."
          },
          "metadata": {}
        }
      ]
    },
    {
      "cell_type": "code",
      "source": [
        "prompt = f\"\"\"\n",
        "What is the sentiment of the following news article, which is delimited by \\\n",
        "triple backticks? Give the answer in a single word, either \"positive\" \\\n",
        "or \"negative\".\n",
        "\n",
        "text: ```{text}```\n",
        "\"\"\"\n",
        "\n",
        "response = get_completion(prompt)\n",
        "display(Markdown(response))"
      ],
      "metadata": {
        "colab": {
          "base_uri": "https://localhost:8080/",
          "height": 46
        },
        "id": "-9_wDovMSGQ7",
        "outputId": "cfa2865a-e1ad-4784-d591-ded58780a52b"
      },
      "execution_count": 8,
      "outputs": [
        {
          "output_type": "display_data",
          "data": {
            "text/plain": [
              "<IPython.core.display.Markdown object>"
            ],
            "text/markdown": "positive"
          },
          "metadata": {}
        }
      ]
    },
    {
      "cell_type": "code",
      "source": [
        "text2 = \"\"\"\n",
        "NEW YORK -- The American financial system was shaken to its core on Sunday. Lehman Brothers Holdings Inc. filed for bankruptcy protection, and Merrill Lynch & Co. agreed to be sold to Bank of America Corp.\n",
        "The U.S. government, which bailed out Fannie Mae and Freddie Mac a week ago and orchestrated the sale of Bear Stearns Cos. to J.P. Morgan Chase & Co. in March, played much tougher with Lehman. It refused to provide a financial backstop to potential buyers. Without such support, Barclays PLC and Bank of America, the two most interested buyers, walked away. Barclays said Monday it pulled out of the potential deal after deciding it wasn't in the best interest of shareholders.\n",
        "Early Monday morning, Lehman filed for protection under Chapter 11 of the U.S. Bankruptcy Code with the United States Bankruptcy Court for the Southern District of New York. Lehman said none of the broker-dealer subsidiaries or other subsidiaries of LBHI will be included in the Chapter 11 filing and all of the broker-dealers will continue to operate. Customers of Lehman Brothers, including customers of its wholly owned subsidiary, Neuberger Berman Holdings LLC, may continue to trade or take other actions with respect to their accounts, Lehman said.\n",
        "On Sunday night, Bank of America struck an all-stock deal to buy Merrill Lynch for $29 a share, or $50 billion.\n",
        "Bank of America Chief Executive Ken Lewis said on Monday that he felt \"no pressure\" from federal government regulators to sign a deal to acquire Merrill Lynch.\n",
        "Merrill Chief Executive John Thain said he began to look for an acquisition partner for Merrill after exploring \"the implications for a Lehman bankruptcy.\"\n",
        "Though the Federal Reserve steered clear of a bailout, it is expected to take new steps to stabilize the broader financial system. These steps, expected to be temporary, would make it easier for banks and securities firms to borrow from the central bank by using a wider range of collateral. Bankers say these financial institutions might need short-term funds as they unwind their many trading positions with Lehman.\n",
        "The Lehman board authorized the filing of the Chapter 11 petition in order to protect its assets and maximize value, the firm said. In conjunction with the filing, Lehman intends to file a variety of first-day motions that will allow it to continue to manage operations in the ordinary course. Those motions include requests to make wage and salary payments and continue other benefits to its employees.\n",
        "However, employees at the Lehman units that filed for insolvency in the U.K. may not be paid, said Tony Lomas, a partner at PricewaterhouseCoopers assigned to help manage the proceedings for four Lehman companies there. The four companies in administration are: Lehman Bros International Europe, Lehman Brothers Ltd, Lehman Brothers Holdings plc and Lehman Brothers UK R.E., which holds real estate assets, he said.\n",
        "Not in administration and continuing to function are Lehman Brothers Europe and Lehman Brothers Asset Management, Mr. Lomas told a news briefing Monday. There are dozens of PricewaterhouseCoopers people inside the Lehman building on Canary Wharf trying to come to grips with the company's affairs, he said.\n",
        "\"When we were appointed this morning, quite bluntly there was no cash because of the group treasury function,\" Mr. Lomas said, adding that his team would tell employees as soon as possible \"whether or not there are funds enough to pay.\" Mr. Lomas said \"a couple of dozen\" of Lehman employees in London have been told definitely that they no longer have jobs. The rest should know by Wednesday, he said. The Lehman insolvency will be \"larger and more complex\" than similar proceedings for Enron and MG Rover, Mr. Lomas said.\n",
        "Lehman said it is exploring the sale of its broker-dealer operations and, as previously announced, is in advanced discussions with a number of potential purchasers to sell its Investment Management Division. Lehman said it intends to pursue those discussions as well as a number of other strategic alternatives. Neuberger Berman LLC and Lehman Brothers Asset Management will continue to conduct business as usual and will not be subject to the bankruptcy case of the parent company, and its portfolio management, research and operating functions remain intact. In addition, fully paid securities of customers of Neuberger Berman are segregated from the assets of Lehman Brothers and aren't subject to the claims of Lehman Brothers Holdings' creditors, Lehman said.\n",
        "The damage on Wall Street is the latest consequence of a storm that began last year with the sharp decline in American housing prices and losses on loans and other assets tied to home values. Massive capital infusions have failed to stem write-offs and losses, and financial firms are running out of options to escape the damage.\n",
        "Regulators and others were preparing for a hectic Monday. The New York Stock Exchange prepared contingency plans over the weekend to reassign the approximately 200 blue-chip stocks that Lehman's specialist unit trades, according to people familiar with the matter. If Lehman is forced into liquidation, the exchange will likely transfer the stocks to one or more of the remaining specialist firms, most likely using the same technology and staff that currently trade the stocks.\n",
        "Dozens of Wall Street desks have trades with Lehman. As word spread that the Barclays deal was falling apart, worries that the company could be thrown into bankruptcy mounted, and traders labored to get out of those contracts.\n",
        "At approximately 2:30 p.m., government officials hosted a call, and a trading session was opened to ease fears. One trader said it was agreed that other brokers would pick up contracts that trading desks have with Lehman. If Lehman does open on Monday, the deals struck on Sunday, often at a worse price, would be void. \"It is utter chaos here,\" the trader said.\n",
        "At many Wall Street firms, traders of credit-default swaps -- contracts that act as insurance against debt defaults -- were told to come to work immediately. Concerned investors were rushing to buy swaps tied to other brokerages and corporations, sending the cost of protection on investment banks such as Goldman Sachs and others sharply higher.\n",
        "In a statement Sunday, the International Swaps and Derivatives Association, a trade group whose members include many large dealers, said a \"netting trading session\" took place between 2 p.m. and 6 p.m. on Sunday. The idea was to allow firms to try to unwind their derivatives transactions with Lehman by finding other parties to step into Lehman's shoes.\n",
        "\"The purpose of this session is to reduce risk associated with a potential Lehman Brothers Holdings Inc. bankruptcy filing,\" it said. It added that trades conducted during this period \"are contingent on a bankruptcy filing on or before 11:59 p.m. New York time\" on Sunday. If no filing takes place, the trades will be canceled, ISDA said.\n",
        "Some traders said it was difficult to find new counterparties for many of their outstanding trades with Lehman. The snags included different terms and maturity dates on derivatives contracts, and market prices changed rapidly Sunday afternoon. \"People were screaming at each other over the phone, asking: How can this work?\" one trader said.\n",
        "William Gross, chief investment officer at bond-fund giant Pacific Investment Management Co., said very few Lehman trades were offset. \"There's an immediate risk related to the unwind of these positions,\" he said.\n",
        "Many Wall Street firms concluded that a liquidation of Lehman's assets likely would proceed in an orderly fashion, people familiar with the situation said. That means other firms could quickly buy real estate, securities and other investments, preventing the assets from flooding the market. Because of that, these people said, some participants in the New York Fed talks decided that liquidation was no worse an option than selling Lehman to a buyer such as Barclays.\n",
        "\"There will be an orderly wind down,\" said one banker involved in the matter. \"This was the default option. It happens when you have no buyer.\"\n",
        "The outside firms decided that instead of making guarantees for Barclays or some other purchaser of Lehman, they would prefer to pool their resources and buy the assets themselves, taking on the risks and carrying costs, along with the possibility of profiting down the road.\n",
        "Those firms would likely then buy assets such as mortgage-backed securities, leveraged loans, private-equity positions and investments in real estate or hedge funds.\n",
        "Roger Freeman, a nine-year Lehman employee who analyzes brokerage firms, spent the weekend gathering cellphone numbers and email addresses from colleagues who also are likely to lose their jobs. He plans to clean out his desk Monday morning. \"We worked long hours here, we've made some of our best friends here. We're suddenly being ripped apart,\" he said. \"It's just unbelievable.\"\n",
        "—Jon Hilsenrath, Jeffrey McCracken, David Enrich and Jeanne Whalen contributed to this article.\n",
        "\"\"\""
      ],
      "metadata": {
        "id": "EurciQZcSUXP"
      },
      "execution_count": 9,
      "outputs": []
    },
    {
      "cell_type": "code",
      "source": [
        "prompt = f\"\"\"\n",
        "What is the sentiment of the following news article, which is delimited by \\\n",
        "triple backticks?\n",
        "\n",
        "text: ```{text2}```\n",
        "\"\"\"\n",
        "\n",
        "response = get_completion(prompt)\n",
        "display(Markdown(response))"
      ],
      "metadata": {
        "colab": {
          "base_uri": "https://localhost:8080/",
          "height": 81
        },
        "id": "opa9W0o1Tbo9",
        "outputId": "b1f22fd5-7810-4a58-d164-e443090875b6"
      },
      "execution_count": 10,
      "outputs": [
        {
          "output_type": "display_data",
          "data": {
            "text/plain": [
              "<IPython.core.display.Markdown object>"
            ],
            "text/markdown": "The sentiment of the news article is negative, as it reports on the bankruptcy of Lehman Brothers and the sale of Merrill Lynch, which shook the American financial system to its core. The article also mentions the potential impact on employees and the broader financial system, as well as the difficulties faced by traders and investors in the aftermath of these events."
          },
          "metadata": {}
        }
      ]
    },
    {
      "cell_type": "markdown",
      "source": [
        "### Identify types of emotions in the article."
      ],
      "metadata": {
        "id": "kTOWyIu2TmED"
      }
    },
    {
      "cell_type": "code",
      "source": [
        "prompt = f\"\"\"\n",
        "Identify a list of emotions that the author of the \\\n",
        "following article is expressing. Include no more than \\\n",
        "five items in the list. Format your answer as a list of \\\n",
        "lower-case words separated by commas.\n",
        "\n",
        "Article text: '''{text2}'''\n",
        "\"\"\"\n",
        "response = get_completion(prompt)\n",
        "print(response)"
      ],
      "metadata": {
        "colab": {
          "base_uri": "https://localhost:8080/"
        },
        "id": "Gameuyu5TeCb",
        "outputId": "97248b66-7c69-42bd-b0a7-0b1f747a6bdf"
      },
      "execution_count": 11,
      "outputs": [
        {
          "output_type": "stream",
          "name": "stdout",
          "text": [
            "shaken, worried, chaotic, concerned, uncertain\n"
          ]
        }
      ]
    },
    {
      "cell_type": "markdown",
      "source": [
        "### Identify Anger"
      ],
      "metadata": {
        "id": "Y2Bhy3E6TzO2"
      }
    },
    {
      "cell_type": "code",
      "source": [
        "prompt = f\"\"\"\n",
        "Is the author of the following news article expressing anger?\n",
        "The article is delimited by triple backticks. Give your answer \\\n",
        "as either yes or no.\n",
        "article: ```{text2}```\n",
        "\"\"\"\n",
        "response = get_completion(prompt)\n",
        "print(response)"
      ],
      "metadata": {
        "colab": {
          "base_uri": "https://localhost:8080/"
        },
        "id": "ZKQHgH1qTvbl",
        "outputId": "495ce3bc-1e32-4b75-82fc-f62ba75b6320"
      },
      "execution_count": 12,
      "outputs": [
        {
          "output_type": "stream",
          "name": "stdout",
          "text": [
            "No\n"
          ]
        }
      ]
    },
    {
      "cell_type": "markdown",
      "source": [
        "## Extract Named Entities."
      ],
      "metadata": {
        "id": "VmzT40NjUR8B"
      }
    },
    {
      "cell_type": "code",
      "source": [
        "prompt = f'''\n",
        "Identify the following items from the news article:\n",
        "- Name of the Banks or Financial institutions.\n",
        "- journalists or contributers to this article.\n",
        "- Places mentioned\n",
        "\n",
        "The article is delimited by triple backticks. \\\n",
        "Format your response as JSON object delimited by triple backtics \\\n",
        "with following keys: \\\n",
        "\"banks\", \"authors\", \"places\".\n",
        "If the information is not present, use \"UNKNOWN\" as value.\n",
        "Keep your response as short as possible.\n",
        "\n",
        "article: ```{text2}```\n",
        "'''\n",
        "response = get_completion(prompt)\n",
        "display(Markdown(response))"
      ],
      "metadata": {
        "colab": {
          "base_uri": "https://localhost:8080/",
          "height": 100
        },
        "id": "7PKDWgXMUPT-",
        "outputId": "ef32383f-593d-46ef-9bcb-e4dee658cac3"
      },
      "execution_count": 18,
      "outputs": [
        {
          "output_type": "display_data",
          "data": {
            "text/plain": [
              "<IPython.core.display.Markdown object>"
            ],
            "text/markdown": "```{\n    \"banks\": [\"Lehman Brothers Holdings Inc.\", \"Merrill Lynch & Co.\", \"Bank of America Corp.\", \"Fannie Mae\", \"Freddie Mac\", \"Bear Stearns Cos.\", \"J.P. Morgan Chase & Co.\", \"Barclays PLC\"],\n    \"authors\": [\"Jon Hilsenrath\", \"Jeffrey McCracken\", \"David Enrich\", \"Jeanne Whalen\"],\n    \"places\": [\"NEW YORK\", \"United States\", \"Southern District of New York\", \"Canary Wharf\", \"U.K.\"]\n}```"
          },
          "metadata": {}
        }
      ]
    },
    {
      "cell_type": "markdown",
      "source": [
        "## Multiple tasks at once."
      ],
      "metadata": {
        "id": "cUwdhwpjWCfA"
      }
    },
    {
      "cell_type": "code",
      "source": [
        "prompt = f'''\n",
        "Identify the following items from the news article:\n",
        "- Sentiment (Positive or Negative)\n",
        "- Is the journalist expressing anger (true or false)\n",
        "- Name of the Banks or financial institutions.\n",
        "- journalists or contributers to this news piece.\n",
        "- Places mentioned\n",
        "\n",
        "The article is delimited by triple backticks. \\\n",
        "Format response as JSON object delimited by triple backtics with \\\n",
        "\"Sentiment\", \"Anger\", \"Banks\", \"Authors\" and \"Places\" as the keys.\n",
        "If the information isn't present, use \"unknown\" as the value.\n",
        "Format the Anger value as boolean.\n",
        "Make your response as short as possible.\n",
        "article: ```{text2}```\n",
        "'''\n",
        "\n",
        "response = get_completion(prompt)\n",
        "display(Markdown(response))\n",
        "\n"
      ],
      "metadata": {
        "colab": {
          "base_uri": "https://localhost:8080/",
          "height": 159
        },
        "id": "GxOU1wggVLsd",
        "outputId": "f21e52c6-6e42-48ec-9182-18c54dad0aa6"
      },
      "execution_count": 21,
      "outputs": [
        {
          "output_type": "display_data",
          "data": {
            "text/plain": [
              "<IPython.core.display.Markdown object>"
            ],
            "text/markdown": "```json\n{\n    \"Sentiment\": \"Negative\",\n    \"Anger\": false,\n    \"Banks\": \"Lehman Brothers Holdings Inc., Merrill Lynch & Co., Bank of America Corp., Barclays PLC, Fannie Mae, Freddie Mac, Bear Stearns Cos., J.P. Morgan Chase & Co.\",\n    \"Authors\": \"unknown\",\n    \"Places\": \"New York, Southern District of New York, U.K., Canary Wharf\"\n}\n```"
          },
          "metadata": {}
        }
      ]
    },
    {
      "cell_type": "markdown",
      "source": [
        "## Topic Extraction"
      ],
      "metadata": {
        "id": "pyngvvN5Xgzr"
      }
    },
    {
      "cell_type": "code",
      "source": [
        "prompt = f\"\"\"\n",
        "Determine five topics that are being discussed in the \\\n",
        "following tex, which is delimited by triple backticks.\n",
        "\n",
        "Make each item or two words long.\n",
        "\n",
        "Format your response as list of items separated by \\\n",
        "commas.\n",
        "\n",
        "Article Text: {text2}\n",
        "\"\"\"\n",
        "\n",
        "response = get_completion(prompt)\n",
        "display(Markdown(response))"
      ],
      "metadata": {
        "colab": {
          "base_uri": "https://localhost:8080/",
          "height": 46
        },
        "id": "aFKZIS5mW_fs",
        "outputId": "8f88ffcf-d7b6-4461-8aac-2b5db605e52e"
      },
      "execution_count": 22,
      "outputs": [
        {
          "output_type": "display_data",
          "data": {
            "text/plain": [
              "<IPython.core.display.Markdown object>"
            ],
            "text/markdown": "Lehman Brothers bankruptcy, Merrill Lynch sale, U.S. government response, impact on employees, financial system stabilization."
          },
          "metadata": {}
        }
      ]
    },
    {
      "cell_type": "markdown",
      "source": [
        "## Existence of a topic."
      ],
      "metadata": {
        "id": "RugTcNmrX9HL"
      }
    },
    {
      "cell_type": "code",
      "source": [
        "topic_list = [\"financial system\", \"bankruptcy\", \"nasa\", \"football\", \"Investors\"]\n",
        "\n",
        "prompt = f\"\"\"\n",
        "Determine whether each item in the following list of topics is \\\n",
        "a topic in the text below, which is delimited by triple \\\n",
        "backticks.\n",
        "\n",
        "Give your answer in JSON format with topics as keys and values as 0 or 1.\n",
        "List of topics: {\", \".join(topic_list)}\n",
        "Article: ```{text2}```\n",
        "\"\"\"\n",
        "\n",
        "response = get_completion(prompt)\n",
        "display(Markdown(response))"
      ],
      "metadata": {
        "colab": {
          "base_uri": "https://localhost:8080/",
          "height": 46
        },
        "id": "bObCfnWHX41v",
        "outputId": "3ace3804-1d0e-4b17-95f6-86a43cebb02b"
      },
      "execution_count": 23,
      "outputs": [
        {
          "output_type": "display_data",
          "data": {
            "text/plain": [
              "<IPython.core.display.Markdown object>"
            ],
            "text/markdown": "{\n    \"financial system\": 1,\n    \"bankruptcy\": 1,\n    \"nasa\": 0,\n    \"football\": 0,\n    \"Investors\": 1\n}"
          },
          "metadata": {}
        }
      ]
    },
    {
      "cell_type": "code",
      "source": [],
      "metadata": {
        "id": "vvJ4yrWWYw-a"
      },
      "execution_count": null,
      "outputs": []
    }
  ]
}