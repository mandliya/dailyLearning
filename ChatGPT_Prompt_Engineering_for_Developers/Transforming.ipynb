{
  "nbformat": 4,
  "nbformat_minor": 0,
  "metadata": {
    "colab": {
      "provenance": [],
      "authorship_tag": "ABX9TyNQmcMHzcxToA05hgUHt65r",
      "include_colab_link": true
    },
    "kernelspec": {
      "name": "python3",
      "display_name": "Python 3"
    },
    "language_info": {
      "name": "python"
    }
  },
  "cells": [
    {
      "cell_type": "markdown",
      "metadata": {
        "id": "view-in-github",
        "colab_type": "text"
      },
      "source": [
        "<a href=\"https://colab.research.google.com/github/mandliya/dailyLearning/blob/main/ChatGPT_Prompt_Engineering_for_Developers/Transforming.ipynb\" target=\"_parent\"><img src=\"https://colab.research.google.com/assets/colab-badge.svg\" alt=\"Open In Colab\"/></a>"
      ]
    },
    {
      "cell_type": "code",
      "execution_count": 1,
      "metadata": {
        "colab": {
          "base_uri": "https://localhost:8080/"
        },
        "id": "hCQX5xowZL7s",
        "outputId": "5edfd1f2-7785-498d-b7d6-7fb3c9a9514c"
      },
      "outputs": [
        {
          "output_type": "stream",
          "name": "stdout",
          "text": [
            "\u001b[2K     \u001b[90m━━━━━━━━━━━━━━━━━━━━━━━━━━━━━━━━━━━━━━━━\u001b[0m \u001b[32m73.6/73.6 kB\u001b[0m \u001b[31m3.0 MB/s\u001b[0m eta \u001b[36m0:00:00\u001b[0m\n",
            "\u001b[2K     \u001b[90m━━━━━━━━━━━━━━━━━━━━━━━━━━━━━━━━━━━━━━━━\u001b[0m \u001b[32m1.0/1.0 MB\u001b[0m \u001b[31m19.3 MB/s\u001b[0m eta \u001b[36m0:00:00\u001b[0m\n",
            "\u001b[2K     \u001b[90m━━━━━━━━━━━━━━━━━━━━━━━━━━━━━━━━━━━━━━━\u001b[0m \u001b[32m114.5/114.5 kB\u001b[0m \u001b[31m9.7 MB/s\u001b[0m eta \u001b[36m0:00:00\u001b[0m\n",
            "\u001b[2K     \u001b[90m━━━━━━━━━━━━━━━━━━━━━━━━━━━━━━━━━━━━━━\u001b[0m \u001b[32m268.8/268.8 kB\u001b[0m \u001b[31m27.8 MB/s\u001b[0m eta \u001b[36m0:00:00\u001b[0m\n",
            "\u001b[2K     \u001b[90m━━━━━━━━━━━━━━━━━━━━━━━━━━━━━━━━━━━━━━\u001b[0m \u001b[32m149.6/149.6 kB\u001b[0m \u001b[31m15.8 MB/s\u001b[0m eta \u001b[36m0:00:00\u001b[0m\n",
            "\u001b[?25h"
          ]
        }
      ],
      "source": [
        "!pip install -qq openai\n",
        "!pip install -qq python-dotenv"
      ]
    },
    {
      "cell_type": "code",
      "source": [
        "import openai\n",
        "import os\n",
        "from IPython.display import display, Markdown, Latex\n",
        "\n",
        "from dotenv import load_dotenv\n",
        "_ = load_dotenv('env_colab')\n",
        "\n",
        "openai.api_key = os.getenv('OPENAI_API_KEY')"
      ],
      "metadata": {
        "id": "R1ZdSKoBZZDS"
      },
      "execution_count": 2,
      "outputs": []
    },
    {
      "cell_type": "code",
      "source": [
        "def get_completion(prompt, model=\"gpt-3.5-turbo\"):\n",
        "    messages = [{\"role\": \"user\", \"content\": prompt}]\n",
        "    response = openai.ChatCompletion.create(\n",
        "        model=model,\n",
        "        messages=messages,\n",
        "        temperature=0, # this is the degree of randomness of the model's output\n",
        "    )\n",
        "    return response.choices[0].message[\"content\"]"
      ],
      "metadata": {
        "id": "zHJU5C6QZala"
      },
      "execution_count": 3,
      "outputs": []
    },
    {
      "cell_type": "markdown",
      "source": [
        "## Language Translation"
      ],
      "metadata": {
        "id": "GeVLE2ZnNjH_"
      }
    },
    {
      "cell_type": "code",
      "source": [
        "prompt = f\"\"\"\n",
        "Translate the following text to Hindi: \\\n",
        "```Hello, I hope you are having a good day```\n",
        "\"\"\"\n",
        "response = get_completion(prompt)\n",
        "display(Markdown(response))"
      ],
      "metadata": {
        "colab": {
          "base_uri": "https://localhost:8080/",
          "height": 46
        },
        "id": "zcgndkxgZch6",
        "outputId": "a512ad6c-be67-4f17-bf4f-f5cb83ae97a9"
      },
      "execution_count": 4,
      "outputs": [
        {
          "output_type": "display_data",
          "data": {
            "text/plain": [
              "<IPython.core.display.Markdown object>"
            ],
            "text/markdown": "नमस्ते, मुझे आशा है कि आपका दिन अच्छा जा रहा हो।"
          },
          "metadata": {}
        }
      ]
    },
    {
      "cell_type": "markdown",
      "source": [
        "## Language Detection"
      ],
      "metadata": {
        "id": "4rZysjUKNmd7"
      }
    },
    {
      "cell_type": "code",
      "source": [
        "prompt = f\"\"\"\n",
        "Tell me which language this is:\n",
        "```आशासे भवतः महत् दिवसं भवति```\n",
        "\"\"\"\n",
        "response = get_completion(prompt)\n",
        "display(Markdown(response))"
      ],
      "metadata": {
        "colab": {
          "base_uri": "https://localhost:8080/",
          "height": 46
        },
        "id": "9vyjKDadGBal",
        "outputId": "5db059e3-6720-4313-9ba8-84fac7b62782"
      },
      "execution_count": 5,
      "outputs": [
        {
          "output_type": "display_data",
          "data": {
            "text/plain": [
              "<IPython.core.display.Markdown object>"
            ],
            "text/markdown": "This is Sanskrit."
          },
          "metadata": {}
        }
      ]
    },
    {
      "cell_type": "markdown",
      "source": [
        "## Multi Language Translation"
      ],
      "metadata": {
        "id": "IEzKbBqVNoxl"
      }
    },
    {
      "cell_type": "code",
      "source": [
        "prompt = f\"\"\"\n",
        "Translate the following text in Hindi, Sanskrit and English in Tyrion (The Imp) \\\n",
        "Lannister tone.\n",
        "\n",
        "```I hope you have a good day```\n",
        "\"\"\"\n",
        "response = get_completion(prompt)\n",
        "display(Markdown(response))"
      ],
      "metadata": {
        "colab": {
          "base_uri": "https://localhost:8080/",
          "height": 116
        },
        "id": "YjtDU50NGXdH",
        "outputId": "59dda402-0703-4b30-98ec-107e36b5721f"
      },
      "execution_count": 6,
      "outputs": [
        {
          "output_type": "display_data",
          "data": {
            "text/plain": [
              "<IPython.core.display.Markdown object>"
            ],
            "text/markdown": "Hindi: मुझे आशा है कि आपका दिन अच्छा गुजरे। (Mujhe aasha hai ki aapka din accha gujare.)\n\nSanskrit: आशयामि तुभ्यं शुभं दिनमस्तु। (Aashayami tubhyam shubham dinamastu.)\n\nEnglish: I hope you have a good day. \n\nTyrion Lannister tone: Well, my dear friend, I sincerely hope that your day is nothing short of splendid."
          },
          "metadata": {}
        }
      ]
    },
    {
      "cell_type": "code",
      "source": [
        "prompt = f\"\"\"\n",
        "Translate the following text in Hindi in a formal and informal tone.\n",
        "`I am sorry`\n",
        "\"\"\"\n",
        "response = get_completion(prompt)\n",
        "display(Markdown(response))"
      ],
      "metadata": {
        "colab": {
          "base_uri": "https://localhost:8080/",
          "height": 70
        },
        "id": "eEvOnoSsG-BU",
        "outputId": "35dbea0b-9c08-40e0-82be-39e78d4d09c6"
      },
      "execution_count": 8,
      "outputs": [
        {
          "output_type": "display_data",
          "data": {
            "text/plain": [
              "<IPython.core.display.Markdown object>"
            ],
            "text/markdown": "Formal: मुझे माफ़ कीजिए। (Mujhe maaf kijiye.)\n\nInformal: माफ़ कर दो। (Maaf kar do.)"
          },
          "metadata": {}
        }
      ]
    },
    {
      "cell_type": "markdown",
      "source": [
        "## Universal Translator\n",
        "\n",
        "Let's use a huggingface dataset."
      ],
      "metadata": {
        "id": "gNTJBEF3JIZ1"
      }
    },
    {
      "cell_type": "code",
      "source": [
        "!pip install -qq datasets\n"
      ],
      "metadata": {
        "id": "Jf-AHJs_HSsr"
      },
      "execution_count": 10,
      "outputs": []
    },
    {
      "cell_type": "code",
      "source": [
        "from datasets import load_dataset\n",
        "dataset = load_dataset('cardiffnlp/tweet_sentiment_multilingual', 'all',\n",
        "                       split='test')\n",
        "dataset = dataset.shuffle()\n",
        "sample_size = 10\n",
        "sample_data = dataset.select(range(sample_size))"
      ],
      "metadata": {
        "colab": {
          "base_uri": "https://localhost:8080/"
        },
        "id": "9wA3mHG4JMCf",
        "outputId": "33937bf8-83b3-458d-ec68-5f2e4def6e2a"
      },
      "execution_count": 18,
      "outputs": [
        {
          "output_type": "stream",
          "name": "stderr",
          "text": [
            "WARNING:datasets.builder:Found cached dataset tweet_sentiment_multilingual (/root/.cache/huggingface/datasets/cardiffnlp___tweet_sentiment_multilingual/all/0.1.0/936afd3cde120393429606f681b3b48d526873c45114068973f71e296ce80605)\n"
          ]
        }
      ]
    },
    {
      "cell_type": "code",
      "source": [
        "for example in sample_data:\n",
        "  text = example['text']\n",
        "  prompt = f\"Tell me what this language is in single word: ```{text}```\"\n",
        "  lang = get_completion(prompt)\n",
        "  print(f\"Orignal Tweet ({lang}):\\n{text}\")\n",
        "\n",
        "  prompt = f\"Translate the following text to English and Hindi: ```{text}```\"\n",
        "  response = get_completion(prompt)\n",
        "  print(response, \"\\n\")"
      ],
      "metadata": {
        "colab": {
          "base_uri": "https://localhost:8080/"
        },
        "id": "bbg9Do93JdpF",
        "outputId": "7051e105-0ef8-4675-c6c4-23655bba9a93"
      },
      "execution_count": 20,
      "outputs": [
        {
          "output_type": "stream",
          "name": "stdout",
          "text": [
            "Orignal Tweet (German):\n",
            "Hands Up Mix Vol.6 August 2013: Möchte Euch meinen neuen Hands Up Mix vorstellen. Freue mich auf Euer Feedback... http\n",
            "English: \"Hands Up Mix Vol.6 August 2013: I would like to present my new Hands Up Mix to you. Looking forward to your feedback... http\"\n",
            "Hindi: \"हाथ ऊपर मिक्स वॉल्यूम 6 अगस्त 2013: मैं आपको अपना नया हाथ ऊपर मिक्स पेश करना चाहता हूँ। आपकी प्रतिक्रिया की प्रतीक्षा कर रहा हूँ... http\" \n",
            "\n",
            "Orignal Tweet (English):\n",
            "Yay!!! Jill Stein raises $4 million for 3-state recount effort #StillWithHer #NotMyPresident @user \n",
            "English: Yay!!! Jill Stein raises $4 million for 3-state recount effort #StillWithHer #NotMyPresident @user\n",
            "Hindi: वाह!!! जिल स्टीन ने 3 राज्यों के लिए 4 मिलियन डॉलर का इकट्ठा किया #StillWithHer #NotMyPresident @user \n",
            "\n",
            "Orignal Tweet (German):\n",
            "@user schwere Aufgabe\n",
            "English: \"@user difficult task\"\n",
            "Hindi: \"@user कठिन काम\" \n",
            "\n",
            "Orignal Tweet (French.):\n",
            "@user Ecologique et amusant.\n",
            "English: ```@user Ecological and fun.```\n",
            "Hindi: ```@user पारिस्थितिक और मजेदार।``` \n",
            "\n",
            "Orignal Tweet (Spanish.):\n",
            "@user yo no tengo tiempo para esas cosas ahora mismo\n",
            "English: \"@user I don't have time for those things right now\"\n",
            "Hindi: \"@user मुझे अभी उन चीजों के लिए समय नहीं है\" \n",
            "\n",
            "Orignal Tweet (English.):\n",
            "Going to see the adorable Eddie Redmayne in #FantasticBeasts tonight. Happy Friday! \n",
            "English: Going to see the adorable Eddie Redmayne in #FantasticBeasts tonight. Happy Friday!\n",
            "Hindi: आज रात #FantasticBeasts में प्यारे Eddie Redmayne को देखने जा रहा हूँ। हैप्पी फ्राइडे! \n",
            "\n",
            "Orignal Tweet (Hindi):\n",
            "tum ple aisa mat kro , tumhare liye bahut difficult hoga apne ghr mai batana bt u hve to do tht ple .. tum cmmnt b nh pad rhe hoge , ple admin aapko toh pata hoga ye kaun h aap toh kuch kar skte ho isse phele woh koi galat step le please ... thts my rqust ple \n",
            "English: \"Please don't do that, it will be very difficult for you to tell at your home, but you have to do that. You may not be reading the comments, but the admin must know who this is, you can do something before they take any wrong step. That's my request, please.\"\n",
            "\n",
            "Hindi: \"कृपया ऐसा मत करो, अपने घर में बताना बहुत मुश्किल होगा, लेकिन आपको वह करना होगा। आप टिप्पणियां नहीं पढ़ रहे होंगे, लेकिन व्यवस्थापक को यह पता होगा कि यह कौन है, आप कुछ कर सकते हो जब तक वे कोई गलत कदम नहीं उठाते। यह मेरी अनुरोध है, कृपया।\" \n",
            "\n",
            "Orignal Tweet (Spanish.):\n",
            "Creo que tengo una contractura en los hombros así o más hecha picha?\n",
            "English: \"I think I have a shoulder strain, could it be any worse?\"\n",
            "\n",
            "Hindi: \"मुझे लगता है कि मेरे कंधों में एक खिंचाव है, क्या यह और बुरा हो सकता है?\" \n",
            "\n",
            "Orignal Tweet (Neologism.):\n",
            "Mooreder When Michael Moore picks up your cause, then wrecks you. \"He so called out the DNC! It was mooreder I tells ya!\" #UsefulNewVerbs \n",
            "English: When Michael Moore supports your cause, he can also destroy it. \"He publicly criticized the DNC! It was 'mooreder' (a new verb) for sure!\" #UsefulNewVerbs\n",
            "\n",
            "Hindi: जब माइकल मूर आपके मुद्दे का समर्थन करता है, तो वह उसे नष्ट भी कर सकता है। \"उसने डीएनसी को खुलेआम आलोचना की! यह नया क्रियाविशेषण 'मूर्डर' था!\" #UsefulNewVerbs \n",
            "\n",
            "Orignal Tweet (Arabic):\n",
            "ريكي مارتن طلع بسكلته ... ههههههههههههههههههههههههههههه http\n",
            "English: \"Ricky Martin rode his bike... hahahahahaha\"\n",
            "Hindi: \"रिकी मार्टिन अपनी बाइक पर सवार था... हाहाहाहाहाहा\" \n",
            "\n"
          ]
        }
      ]
    },
    {
      "cell_type": "markdown",
      "source": [
        "## Tone Transformation"
      ],
      "metadata": {
        "id": "W_eBd0pVNvDm"
      }
    },
    {
      "cell_type": "code",
      "source": [
        "prompt = f\"\"\"\n",
        "Translate the following text from slang to a business letter:\n",
        "'Dude this is messed up. I am literally gonna leave this app, if I have to \\\n",
        "pay 8$ monthly for something I'm gonna get outside for free'\n",
        "\"\"\"\n",
        "\n",
        "display(Markdown(get_completion(prompt)))"
      ],
      "metadata": {
        "colab": {
          "base_uri": "https://localhost:8080/",
          "height": 157
        },
        "id": "XxWQsJSdLeP6",
        "outputId": "241d0077-c282-4298-f9fd-edeba2458db2"
      },
      "execution_count": 21,
      "outputs": [
        {
          "output_type": "display_data",
          "data": {
            "text/plain": [
              "<IPython.core.display.Markdown object>"
            ],
            "text/markdown": "Dear Sir/Madam,\n\nI am writing to express my dissatisfaction with the current pricing structure of your application. I find it unacceptable to pay $8 per month for a service that I can easily obtain for free elsewhere. As a result, I am considering discontinuing my use of your app.\n\nThank you for your attention to this matter.\n\nSincerely,\n\n[Your Name]"
          },
          "metadata": {}
        }
      ]
    },
    {
      "cell_type": "markdown",
      "source": [
        "## Format Conversion\n",
        "\n",
        "ChatGPT is pretty amazing at conversion between various formats, for example: JSON to HTML etc."
      ],
      "metadata": {
        "id": "nQ46bUE8OSv2"
      }
    },
    {
      "cell_type": "code",
      "source": [
        "from IPython.display import display, Markdown, Latex, HTML, JSON\n",
        "\n",
        "data_json = {\"Movie Character Aliases\" : [\n",
        "    {\n",
        "      \"name\": \"Bruce Wayne\",\n",
        "      \"alias\": \"Batman\",\n",
        "      \"movie\": \"The Dark Knight\"\n",
        "    },\n",
        "    {\n",
        "      \"name\": \"Anakin Skywalker\",\n",
        "      \"alias\": \"Darth Vader\",\n",
        "      \"movie\": \"Star Wars: Episode V - The Empire Strikes Back\"\n",
        "    },\n",
        "    {\n",
        "      \"name\": \"Marion Crane\",\n",
        "      \"alias\": \"Janet Leigh\",\n",
        "      \"movie\": \"Psycho\"\n",
        "    },\n",
        "    {\n",
        "      \"name\": \"Jor-El\",\n",
        "      \"alias\": \"Kal-El\",\n",
        "      \"movie\": \"Superman\"\n",
        "    },\n",
        "    {\n",
        "      \"name\": \"John Nada\",\n",
        "      \"alias\": \"Nada\",\n",
        "      \"movie\": \"They Live\"\n",
        "    }\n",
        "  ]\n",
        "}\n",
        "\n",
        "prompt = f\"\"\"\n",
        "Translate the following python dictionary from JSON to an HTML table with \\\n",
        "column headers and title: ```{data_json}```\n",
        "\"\"\"\n",
        "response = get_completion(prompt)\n",
        "display(HTML(response))"
      ],
      "metadata": {
        "colab": {
          "base_uri": "https://localhost:8080/",
          "height": 165
        },
        "id": "IDYEgIFYOKVL",
        "outputId": "73e1a171-c25e-47d4-d27a-52c1c08e3afb"
      },
      "execution_count": 23,
      "outputs": [
        {
          "output_type": "display_data",
          "data": {
            "text/plain": [
              "<IPython.core.display.HTML object>"
            ],
            "text/html": [
              "<table>\n",
              "  <caption>Movie Character Aliases</caption>\n",
              "  <thead>\n",
              "    <tr>\n",
              "      <th>Name</th>\n",
              "      <th>Alias</th>\n",
              "      <th>Movie</th>\n",
              "    </tr>\n",
              "  </thead>\n",
              "  <tbody>\n",
              "    <tr>\n",
              "      <td>Bruce Wayne</td>\n",
              "      <td>Batman</td>\n",
              "      <td>The Dark Knight</td>\n",
              "    </tr>\n",
              "    <tr>\n",
              "      <td>Anakin Skywalker</td>\n",
              "      <td>Darth Vader</td>\n",
              "      <td>Star Wars: Episode V - The Empire Strikes Back</td>\n",
              "    </tr>\n",
              "    <tr>\n",
              "      <td>Marion Crane</td>\n",
              "      <td>Janet Leigh</td>\n",
              "      <td>Psycho</td>\n",
              "    </tr>\n",
              "    <tr>\n",
              "      <td>Jor-El</td>\n",
              "      <td>Kal-El</td>\n",
              "      <td>Superman</td>\n",
              "    </tr>\n",
              "    <tr>\n",
              "      <td>John Nada</td>\n",
              "      <td>Nada</td>\n",
              "      <td>They Live</td>\n",
              "    </tr>\n",
              "  </tbody>\n",
              "</table>"
            ]
          },
          "metadata": {}
        }
      ]
    },
    {
      "cell_type": "markdown",
      "source": [
        "## Spelling & Grammar Correction\n",
        "\n",
        "ChatGPT is extremely powerful tool for Spelling and Grammar Correction."
      ],
      "metadata": {
        "id": "PQXncZC9RJ0x"
      }
    },
    {
      "cell_type": "code",
      "source": [
        "grammar_dataset = load_dataset('Owishiboo/grammar-correction', split='train')\n",
        "grammar_dataset[0]['input']"
      ],
      "metadata": {
        "colab": {
          "base_uri": "https://localhost:8080/",
          "height": 73
        },
        "id": "BeGzzMXpQdV-",
        "outputId": "64bc6772-7388-4fcc-fa61-5fd64379e14e"
      },
      "execution_count": 26,
      "outputs": [
        {
          "output_type": "stream",
          "name": "stderr",
          "text": [
            "WARNING:datasets.builder:Found cached dataset csv (/root/.cache/huggingface/datasets/Owishiboo___csv/Owishiboo--grammar-correction-168a13a0e8e3fe72/0.0.0/eea64c71ca8b46dd3f537ed218fc9bf495d5707789152eb2764f5c78fa66d59d)\n"
          ]
        },
        {
          "output_type": "execute_result",
          "data": {
            "text/plain": [
              "' New and new technology has been introduced to the society .'"
            ],
            "application/vnd.google.colaboratory.intrinsic+json": {
              "type": "string"
            }
          },
          "metadata": {},
          "execution_count": 26
        }
      ]
    },
    {
      "cell_type": "code",
      "source": [
        "import random\n",
        "\n",
        "def introduce_spelling_errors(sentence):\n",
        "    words = sentence.split()\n",
        "    num_errors = random.randint(1, 2)\n",
        "\n",
        "    for _ in range(num_errors):\n",
        "        index = random.randint(0, len(words) - 1)\n",
        "        word = words[index]\n",
        "        char_index = random.randint(0, len(word) - 1)\n",
        "        new_char = random.choice([chr(x) for x in range(ord('a'), ord('z')+1) if chr(x) != word[char_index].lower()])\n",
        "        if word[char_index].isupper():\n",
        "            new_char = new_char.upper()\n",
        "        words[index] = word[:char_index] + new_char + word[char_index+1:]\n",
        "\n",
        "    return ' '.join(words)\n"
      ],
      "metadata": {
        "id": "6veREA7DRcV_"
      },
      "execution_count": 27,
      "outputs": []
    },
    {
      "cell_type": "code",
      "source": [
        "grammar_dataset = grammar_dataset.shuffle()\n",
        "sample_size = 10\n",
        "sample_dataset = grammar_dataset.select(range(sample_size))"
      ],
      "metadata": {
        "id": "xREzOstwSSDf"
      },
      "execution_count": 29,
      "outputs": []
    },
    {
      "cell_type": "code",
      "source": [
        "for (i, example) in enumerate(sample_dataset):\n",
        "  text = example['input']\n",
        "  # randomly introduce spelling errors too along with grammar.\n",
        "  if i % 2 == 0:\n",
        "    text = introduce_spelling_errors(text)\n",
        "  prompt = f\"\"\"\n",
        "  Proofread and correct the following text \\\n",
        "  and rewrite the corrected version. If you don't find any \\\n",
        "  errors, just say \"No errors found\". Don't use any \\\n",
        "  punctuation around the text.\n",
        "  ```{text}```\n",
        "  \"\"\"\n",
        "\n",
        "  print(f\"Original Text: {text}\\n\")\n",
        "  response = get_completion(prompt)\n",
        "  print(f\"Corrected if needed: {response}\\n\\n\")"
      ],
      "metadata": {
        "colab": {
          "base_uri": "https://localhost:8080/"
        },
        "id": "HDgF8gAYSjEZ",
        "outputId": "87dd22ee-1106-40be-f454-08f1c09e8067"
      },
      "execution_count": 30,
      "outputs": [
        {
          "output_type": "stream",
          "name": "stdout",
          "text": [
            "Original Text: After majoring on any feild of studies a student can not adjust immidiatly with the practical world l\n",
            "\n",
            "Corrected if needed: After majoring in any field of studies, a student cannot adjust immediately to the practical world.\n",
            "\n",
            "Rewritten: It is common for students to struggle with adjusting to the practical world after majoring in a particular field of study.\n",
            "\n",
            "\n",
            "Original Text:  internet offer a good opportunity for people that travel for work , for a student , for work .\n",
            "\n",
            "Corrected if needed: Internet offers a good opportunity for people who travel for work, for students, and for work.\n",
            "\n",
            "\n",
            "Original Text: So it means there is no certain way about how migratintg birds bind their way to the home .\n",
            "\n",
            "Corrected if needed: No errors found.\n",
            "\n",
            "\n",
            "Original Text:  As I see it , there will be a lot of research done in the future to find such alternitive energies , which will also be environmental-friendly , as well as cheaper .\n",
            "\n",
            "Corrected if needed: As I see it, there will be a lot of research done in the future to find such alternative energies, which will also be environmentally friendly, as well as cheaper.\n",
            "\n",
            "\n",
            "Original Text: but on the other hand , we have a risk to poison this product , because farmers often ieed their fish growth-inducing chemicals f\n",
            "\n",
            "Corrected if needed: But on the other hand, we have a risk of poisoning this product because farmers often feed their fish growth-inducing chemicals.\n",
            "\n",
            "\n",
            "Original Text:  Secondly , the information in videos is very delivered in format , it very familiar with students . \n",
            "\n",
            "Corrected if needed: Secondly, the information in videos is delivered in a format that is very familiar to students.\n",
            "\n",
            "\n",
            "Original Text: Tmb time to take a risk can be compensated with consulting others who are more professional than me in sorting out the issues or solving the risky problems .\n",
            "\n",
            "Corrected if needed: Time to take a risk can be compensated by consulting others who are more professional than me in sorting out the issues or solving the risky problems.\n",
            "\n",
            "\n",
            "Original Text:  So the governments and the scientists are also promoting the less use of private cars as they are one of the greatest attributers to the air pollution . \n",
            "\n",
            "Corrected if needed: So, governments and scientists are also promoting the reduced use of private cars as they are one of the greatest contributors to air pollution.\n",
            "\n",
            "\n",
            "Original Text: this is how we are transforming our society at the present days The actual fact of being against this statement is that we are looking what we want at the moment in order bo have a great time .\n",
            "\n",
            "Corrected if needed: This is how we are transforming our society in the present day. The actual fact is that we are against this statement because we are only looking for what we want in the moment in order to have a great time.\n",
            "\n",
            "\n",
            "Original Text:  Because they sent out 2 0 % of the whole carbon emission . \n",
            "\n",
            "Corrected if needed: Because they sent out 20% of the total carbon emissions.\n",
            "\n",
            "No errors found.\n",
            "\n",
            "\n"
          ]
        }
      ]
    },
    {
      "cell_type": "code",
      "source": [
        "!pip install -qq redlines"
      ],
      "metadata": {
        "id": "OkcahK9iTgQi"
      },
      "execution_count": 31,
      "outputs": []
    },
    {
      "cell_type": "code",
      "source": [
        "from redlines import Redlines\n",
        "grammar_dataset = grammar_dataset.shuffle()\n",
        "sample_size = 5\n",
        "sample_dataset = grammar_dataset.select(range(sample_size))\n",
        "\n",
        "for (i, example) in enumerate(sample_dataset):\n",
        "  text = example['input']\n",
        "  text = introduce_spelling_errors(text)\n",
        "  prompt = f\"proofread and correct this review: ```{text}```\"\n",
        "  response = get_completion(prompt)\n",
        "  diff = Redlines(text,response)\n",
        "  display(Markdown(diff.output_markdown))"
      ],
      "metadata": {
        "colab": {
          "base_uri": "https://localhost:8080/",
          "height": 198
        },
        "id": "x0gB6UukTxQ8",
        "outputId": "e1181864-d2bc-47e7-a22a-de58253bc2a4"
      },
      "execution_count": 33,
      "outputs": [
        {
          "output_type": "display_data",
          "data": {
            "text/plain": [
              "<IPython.core.display.Markdown object>"
            ],
            "text/markdown": "<span style=\"color:red;font-weight:700;text-decoration:line-through;\">The time </span><span style=\"color:red;font-weight:700;\">\"The decision </span>to take a risk can be <span style=\"color:red;font-weight:700;text-decoration:line-through;\">compensated with consulting others </span><span style=\"color:red;font-weight:700;\">mitigated by seeking advice from professionals </span>who are more <span style=\"color:red;font-weight:700;text-decoration:line-through;\">professional than me </span><span style=\"color:red;font-weight:700;\">experienced </span>in <span style=\"color:red;font-weight:700;text-decoration:line-through;\">sorting out the </span><span style=\"color:red;font-weight:700;\">resolving complex </span>issues or <span style=\"color:red;font-weight:700;text-decoration:line-through;\">solving thj </span><span style=\"color:red;font-weight:700;\">tackling </span>risky <span style=\"color:red;font-weight:700;text-decoration:line-through;\">problems .</span><span style=\"color:red;font-weight:700;\">problems.\"</span>"
          },
          "metadata": {}
        },
        {
          "output_type": "display_data",
          "data": {
            "text/plain": [
              "<IPython.core.display.Markdown object>"
            ],
            "text/markdown": "<span style=\"color:red;font-weight:700;\">\"The </span>internet <span style=\"color:red;font-weight:700;text-decoration:line-through;\">offer d </span><span style=\"color:red;font-weight:700;\">offers a </span>good opportunity for people <span style=\"color:red;font-weight:700;text-decoration:line-through;\">that </span><span style=\"color:red;font-weight:700;\">who </span>travel for <span style=\"color:red;font-weight:700;text-decoration:line-through;\">work , </span><span style=\"color:red;font-weight:700;\">work, </span>for <span style=\"color:red;font-weight:700;text-decoration:line-through;\">a student e </span><span style=\"color:red;font-weight:700;\">students, and </span>for <span style=\"color:red;font-weight:700;text-decoration:line-through;\">work .</span><span style=\"color:red;font-weight:700;\">work.\" </span>\n\n<span style=\"color:red;font-weight:700;\">Note: I'm not sure what \"for work\" means in this context, so I left it as is.</span>"
          },
          "metadata": {}
        },
        {
          "output_type": "display_data",
          "data": {
            "text/plain": [
              "<IPython.core.display.Markdown object>"
            ],
            "text/markdown": "<span style=\"color:red;font-weight:700;text-decoration:line-through;\">Because </span><span style=\"color:red;font-weight:700;\">\"Because </span>they <span style=\"color:red;font-weight:700;text-decoration:line-through;\">sent out 2 0 % </span><span style=\"color:red;font-weight:700;\">reduced 20% </span>of the <span style=\"color:red;font-weight:700;text-decoration:line-through;\">whole carfsn emission .</span><span style=\"color:red;font-weight:700;\">car's emissions.\"</span>"
          },
          "metadata": {}
        },
        {
          "output_type": "display_data",
          "data": {
            "text/plain": [
              "<IPython.core.display.Markdown object>"
            ],
            "text/markdown": "<span style=\"color:red;font-weight:700;text-decoration:line-through;\">Vo </span><span style=\"color:red;font-weight:700;\">\"Vo, </span>it means there <span style=\"color:red;font-weight:700;text-decoration:line-through;\">zs </span><span style=\"color:red;font-weight:700;\">is </span>no certain way about how <span style=\"color:red;font-weight:700;text-decoration:line-through;\">migratintg </span><span style=\"color:red;font-weight:700;\">migrating </span>birds find their way <span style=\"color:red;font-weight:700;text-decoration:line-through;\">to the home .</span><span style=\"color:red;font-weight:700;\">home.\"</span>"
          },
          "metadata": {}
        },
        {
          "output_type": "display_data",
          "data": {
            "text/plain": [
              "<IPython.core.display.Markdown object>"
            ],
            "text/markdown": "<span style=\"color:red;font-weight:700;text-decoration:line-through;\">but </span><span style=\"color:red;font-weight:700;\">\"But </span>on <span style=\"color:red;font-weight:700;text-decoration:line-through;\">toe </span><span style=\"color:red;font-weight:700;\">the </span>other <span style=\"color:red;font-weight:700;text-decoration:line-through;\">hand , </span><span style=\"color:red;font-weight:700;\">hand, </span>we <span style=\"color:red;font-weight:700;text-decoration:line-through;\">have a </span><span style=\"color:red;font-weight:700;\">run the </span>risk <span style=\"color:red;font-weight:700;text-decoration:line-through;\">to poison </span><span style=\"color:red;font-weight:700;\">of poisoning </span>this product <span style=\"color:red;font-weight:700;text-decoration:line-through;\">, </span>because farmers often feed their fish <span style=\"color:red;font-weight:700;text-decoration:line-through;\">groath-inducing chemicals .</span><span style=\"color:red;font-weight:700;\">growth-inducing chemicals.\"</span>"
          },
          "metadata": {}
        }
      ]
    },
    {
      "cell_type": "code",
      "source": [
        "text = sample_dataset[0]['input']\n",
        "prompt = f\"\"\"\n",
        "proofread and correct this review. Make it more compelling.\n",
        "Ensure it follows APA style guide and targets an advanced reader.\n",
        "Output in markdown format.\n",
        "Text: ```{text}```\n",
        "\"\"\"\n",
        "response = get_completion(prompt)\n",
        "display(Markdown(response))"
      ],
      "metadata": {
        "colab": {
          "base_uri": "https://localhost:8080/",
          "height": 133
        },
        "id": "0mkRv_1pU7t2",
        "outputId": "3c773e49-ad90-4344-d127-5a6c9741e3c4"
      },
      "execution_count": 34,
      "outputs": [
        {
          "output_type": "display_data",
          "data": {
            "text/plain": [
              "<IPython.core.display.Markdown object>"
            ],
            "text/markdown": "The decision to take a risk can be daunting, but seeking the advice of professionals can mitigate potential issues and lead to successful problem-solving. As an advanced reader, it is important to recognize the value of consulting with experts in a given field. By doing so, one can gain valuable insights and perspectives that may not have been considered otherwise. This approach can be particularly effective when dealing with complex or high-risk situations. In fact, seeking the guidance of professionals can be the difference between success and failure. Therefore, it is crucial to recognize the importance of seeking advice from those who possess the necessary expertise and experience. In conclusion, taking calculated risks can be rewarding, but it is essential to consult with professionals to ensure the best possible outcome."
          },
          "metadata": {}
        }
      ]
    },
    {
      "cell_type": "code",
      "source": [],
      "metadata": {
        "id": "9RW5rwxLV2Bp"
      },
      "execution_count": null,
      "outputs": []
    }
  ]
}