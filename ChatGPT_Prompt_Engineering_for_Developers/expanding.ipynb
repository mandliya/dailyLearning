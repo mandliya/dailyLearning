{
  "nbformat": 4,
  "nbformat_minor": 0,
  "metadata": {
    "colab": {
      "provenance": [],
      "authorship_tag": "ABX9TyNMyE6ICrhRofnGnFoWdRT1",
      "include_colab_link": true
    },
    "kernelspec": {
      "name": "python3",
      "display_name": "Python 3"
    },
    "language_info": {
      "name": "python"
    }
  },
  "cells": [
    {
      "cell_type": "markdown",
      "metadata": {
        "id": "view-in-github",
        "colab_type": "text"
      },
      "source": [
        "<a href=\"https://colab.research.google.com/github/mandliya/dailyLearning/blob/main/ChatGPT_Prompt_Engineering_for_Developers/expanding.ipynb\" target=\"_parent\"><img src=\"https://colab.research.google.com/assets/colab-badge.svg\" alt=\"Open In Colab\"/></a>"
      ]
    },
    {
      "cell_type": "markdown",
      "source": [
        "## Expanding\n",
        "\n",
        "In this lesson, we'll generate advice for therapy patients, tailored to each patient's problem"
      ],
      "metadata": {
        "id": "fGzr-_gVhKfb"
      }
    },
    {
      "cell_type": "code",
      "execution_count": 5,
      "metadata": {
        "colab": {
          "base_uri": "https://localhost:8080/"
        },
        "id": "m2XSA0NvXYrf",
        "outputId": "f0a8c034-e3c3-4ae5-e28b-331874fc3033"
      },
      "outputs": [
        {
          "metadata": {
            "tags": null
          },
          "name": "stdout",
          "output_type": "stream",
          "text": [
            "\u001b[2K     \u001b[90m━━━━━━━━━━━━━━━━━━━━━━━━━━━━━━━━━━━━━━\u001b[0m \u001b[32m485.6/485.6 kB\u001b[0m \u001b[31m13.2 MB/s\u001b[0m eta \u001b[36m0:00:00\u001b[0m\n",
            "\u001b[2K     \u001b[90m━━━━━━━━━━━━━━━━━━━━━━━━━━━━━━━━━━━━━━\u001b[0m \u001b[32m110.5/110.5 kB\u001b[0m \u001b[31m15.2 MB/s\u001b[0m eta \u001b[36m0:00:00\u001b[0m\n",
            "\u001b[2K     \u001b[90m━━━━━━━━━━━━━━━━━━━━━━━━━━━━━━━━━━━━━━\u001b[0m \u001b[32m212.5/212.5 kB\u001b[0m \u001b[31m24.1 MB/s\u001b[0m eta \u001b[36m0:00:00\u001b[0m\n",
            "\u001b[2K     \u001b[90m━━━━━━━━━━━━━━━━━━━━━━━━━━━━━━━━━━━━━━\u001b[0m \u001b[32m134.3/134.3 kB\u001b[0m \u001b[31m18.8 MB/s\u001b[0m eta \u001b[36m0:00:00\u001b[0m\n",
            "\u001b[2K     \u001b[90m━━━━━━━━━━━━━━━━━━━━━━━━━━━━━━━━━━━━━━\u001b[0m \u001b[32m236.8/236.8 kB\u001b[0m \u001b[31m30.8 MB/s\u001b[0m eta \u001b[36m0:00:00\u001b[0m\n",
            "\u001b[?25h"
          ]
        }
      ],
      "source": [
        "!pip install -qq openai\n",
        "!pip install -qq python-dotenv\n",
        "!pip install -qq datasets"
      ]
    },
    {
      "cell_type": "code",
      "source": [
        "import openai\n",
        "import os\n",
        "from IPython.display import display, Markdown, Latex\n",
        "\n",
        "from dotenv import load_dotenv\n",
        "_ = load_dotenv('env_colab')\n",
        "\n",
        "openai.api_key = os.getenv('OPENAI_API_KEY')"
      ],
      "metadata": {
        "id": "xteD7rliXe6P"
      },
      "execution_count": 2,
      "outputs": []
    },
    {
      "cell_type": "code",
      "source": [
        "def get_completion(prompt, model=\"gpt-3.5-turbo\", temperature=0):\n",
        "    messages = [{\"role\": \"user\", \"content\": prompt}]\n",
        "    response = openai.ChatCompletion.create(\n",
        "        model=model,\n",
        "        messages=messages,\n",
        "        temperature=temperature,\n",
        "    )\n",
        "    return response.choices[0].message[\"content\"]"
      ],
      "metadata": {
        "id": "od-NONjoXgWn"
      },
      "execution_count": 4,
      "outputs": []
    },
    {
      "cell_type": "markdown",
      "source": [
        "## Load Dataset"
      ],
      "metadata": {
        "id": "BLYtE7whhaIQ"
      }
    },
    {
      "cell_type": "code",
      "source": [
        "from datasets import load_dataset\n",
        "data = load_dataset('samhog/psychology-6k', split='train')"
      ],
      "metadata": {
        "colab": {
          "base_uri": "https://localhost:8080/"
        },
        "id": "9nLM6UguhZ0E",
        "outputId": "63d4eda1-cbac-48b0-d98c-02e52938a40b"
      },
      "execution_count": 21,
      "outputs": [
        {
          "output_type": "stream",
          "name": "stderr",
          "text": [
            "WARNING:datasets.builder:Found cached dataset json (/root/.cache/huggingface/datasets/samhog___json/samhog--psychology-6k-1b65a58bd366c9f7/0.0.0/e347ab1c932092252e717ff3f949105a4dd28b27e842dd53157d2f72e276c2e4)\n"
          ]
        }
      ]
    },
    {
      "cell_type": "code",
      "source": [
        "data = data.shuffle()\n",
        "data = [d['input'] for d in data]"
      ],
      "metadata": {
        "id": "4ysC-hqTXiKl"
      },
      "execution_count": 22,
      "outputs": []
    },
    {
      "cell_type": "code",
      "source": [
        "data[:3]"
      ],
      "metadata": {
        "colab": {
          "base_uri": "https://localhost:8080/"
        },
        "id": "4pDZ2C9ajKag",
        "outputId": "5c3d8c5e-275a-4bbc-bbe3-4236614e1cc1"
      },
      "execution_count": 23,
      "outputs": [
        {
          "output_type": "execute_result",
          "data": {
            "text/plain": [
              "[\"I'm having trouble adjusting to a new job. What can I do?\",\n",
              " \"I've been feeling really down and have lost interest in things I used to enjoy.\",\n",
              " \"I'm struggling with body image issues and I don't know how to feel better about myself.\"]"
            ]
          },
          "metadata": {},
          "execution_count": 23
        }
      ]
    },
    {
      "cell_type": "markdown",
      "source": [
        "## Helpful Assistant."
      ],
      "metadata": {
        "id": "SfwBLjtJjdOR"
      }
    },
    {
      "cell_type": "code",
      "source": [
        "for patient_text in data[:2]:\n",
        "  prompt = f\"\"\"\n",
        "  You are an expert and licensed psychologist. You offer emphatic actionable \\\n",
        "  advice to patient based on their concern. If the sentiment is extremely negative \\\n",
        "  you offer them immediate help.\n",
        "\n",
        "  Your response is very detailed, professional and provide insightful science backed advice.\n",
        "\n",
        "  Patient problem is in triple backticks.\n",
        "\n",
        "  Patient Problem: ```{patient_text}```\n",
        "  \"\"\"\n",
        "\n",
        "  response = get_completion(prompt, temperature=0)\n",
        "  display(Markdown(f'''**Patient Problem:** {patient_text}'''))\n",
        "  display(Markdown(f'''**Response:** {response}'''))\n",
        "  print('\\n\\n')"
      ],
      "metadata": {
        "colab": {
          "base_uri": "https://localhost:8080/",
          "height": 705
        },
        "id": "U-06rTdrjWhD",
        "outputId": "ef750388-e308-45da-f325-5cc729186a41"
      },
      "execution_count": 33,
      "outputs": [
        {
          "output_type": "display_data",
          "data": {
            "text/plain": [
              "<IPython.core.display.Markdown object>"
            ],
            "text/markdown": "**Patient Problem:** I'm having trouble adjusting to a new job. What can I do?"
          },
          "metadata": {}
        },
        {
          "output_type": "display_data",
          "data": {
            "text/plain": [
              "<IPython.core.display.Markdown object>"
            ],
            "text/markdown": "**Response:** Adjusting to a new job can be a challenging experience, and it's completely normal to feel overwhelmed or anxious during this transition period. Here are some tips that may help you cope with this situation:\n\n1. Give yourself time: It's important to remember that adjusting to a new job takes time. Don't expect to feel completely comfortable and confident right away. Be patient with yourself and allow yourself to make mistakes and learn from them.\n\n2. Get to know your colleagues: Building relationships with your colleagues can help you feel more comfortable and supported in your new job. Take the time to introduce yourself and get to know your coworkers. You may find that you have common interests or experiences that can help you bond.\n\n3. Ask for help: Don't be afraid to ask for help if you need it. Your colleagues and supervisor are there to support you and help you succeed in your new role. If you're struggling with a particular task or need clarification on something, don't hesitate to ask for assistance.\n\n4. Set realistic expectations: It's important to set realistic expectations for yourself during this transition period. Don't put too much pressure on yourself to be perfect or to know everything right away. Focus on learning and growing in your new role, and celebrate small successes along the way.\n\n5. Take care of yourself: Finally, it's important to take care of yourself during this time. Make sure you're getting enough sleep, eating well, and engaging in activities that bring you joy and relaxation. If you're feeling overwhelmed or anxious, consider talking to a mental health professional who can provide additional support and guidance.\n\nIf you're experiencing extreme negative emotions or feel like you're not able to cope with this situation, it's important to seek immediate help. Consider reaching out to a crisis hotline or mental health professional who can provide you with the support and resources you need. Remember, it's okay to ask for help when you need it."
          },
          "metadata": {}
        },
        {
          "output_type": "stream",
          "name": "stdout",
          "text": [
            "\n",
            "\n",
            "\n"
          ]
        },
        {
          "output_type": "display_data",
          "data": {
            "text/plain": [
              "<IPython.core.display.Markdown object>"
            ],
            "text/markdown": "**Patient Problem:** I've been feeling really down and have lost interest in things I used to enjoy."
          },
          "metadata": {}
        },
        {
          "output_type": "display_data",
          "data": {
            "text/plain": [
              "<IPython.core.display.Markdown object>"
            ],
            "text/markdown": "**Response:** Thank you for sharing your concern with me. It sounds like you may be experiencing symptoms of depression. Depression is a common mental health condition that affects many people. It can cause feelings of sadness, hopelessness, and loss of interest in activities that were once enjoyable.\n\nIt's important to seek help if you are experiencing symptoms of depression. I recommend that you schedule an appointment with a mental health professional, such as a licensed therapist or psychologist. They can provide you with a proper diagnosis and develop a treatment plan that is tailored to your specific needs.\n\nIn the meantime, there are some things you can do to help manage your symptoms. Engaging in regular exercise, eating a healthy diet, and getting enough sleep can all help improve your mood. It's also important to stay connected with friends and family, and to engage in activities that you find enjoyable.\n\nIf you are feeling extremely negative or have thoughts of self-harm, it's important to seek immediate help. You can call the National Suicide Prevention Lifeline at 1-800-273-TALK (1-800-273-8255) or go to your nearest emergency room.\n\nRemember, depression is a treatable condition and there is help available. Don't hesitate to reach out for support."
          },
          "metadata": {}
        },
        {
          "output_type": "stream",
          "name": "stdout",
          "text": [
            "\n",
            "\n",
            "\n"
          ]
        }
      ]
    },
    {
      "cell_type": "markdown",
      "source": [
        "## Play with temperature"
      ],
      "metadata": {
        "id": "LhN1979UoFh1"
      }
    },
    {
      "cell_type": "code",
      "source": [
        "  prompt = f\"\"\"\n",
        "  You are an expert and licensed psychologist. You offer emphatic actionable \\\n",
        "  advice to patient based on their concern. If the sentiment is extremely negative \\\n",
        "  you offer them immediate help.\n",
        "\n",
        "  Your response is very detailed, professional and provide insightful science backed advice.\n",
        "\n",
        "  Patient problem is in triple backticks.\n",
        "\n",
        "  Patient Problem: ```{patient_text}```\n",
        "  \"\"\"\n",
        "\n",
        "  response = get_completion(prompt, temperature=0.68)\n",
        "  display(Markdown(f'''**Patient Problem:** {patient_text}'''))\n",
        "  display(Markdown(f'''**Response:** {response}'''))\n",
        "  print('\\n\\n')"
      ],
      "metadata": {
        "colab": {
          "base_uri": "https://localhost:8080/",
          "height": 379
        },
        "id": "379QWMujkTEl",
        "outputId": "7f7177e0-84fc-448f-b82f-a1ea128a1e2c"
      },
      "execution_count": 34,
      "outputs": [
        {
          "output_type": "display_data",
          "data": {
            "text/plain": [
              "<IPython.core.display.Markdown object>"
            ],
            "text/markdown": "**Patient Problem:** I've been feeling really down and have lost interest in things I used to enjoy."
          },
          "metadata": {}
        },
        {
          "output_type": "display_data",
          "data": {
            "text/plain": [
              "<IPython.core.display.Markdown object>"
            ],
            "text/markdown": "**Response:** I'm sorry to hear that you've been feeling down and have lost interest in things you used to enjoy. These are classic symptoms of depression, which is a common mental health condition that affects millions of people worldwide. It's important that you seek help as soon as possible to address these symptoms and start feeling better.\n\nOne of the first things you can do is to talk to a mental health professional like myself, who can provide you with a diagnosis and treatment plan. This may include therapy, medication, or a combination of both. It's important to note that seeking help for depression is not a sign of weakness, but rather a sign of strength and courage.\n\nIn the meantime, there are a few things you can do to help manage your symptoms. One of the most important things is to practice self-care. This includes getting enough sleep, eating a healthy diet, and engaging in regular exercise. It's also important to make time for activities that you enjoy, even if you don't feel like doing them at first. These activities can help boost your mood and improve your overall well-being.\n\nIn addition, it's important to reach out to friends and family members for support. Talking about your feelings with loved ones can help you feel less alone and more connected. You may also want to consider joining a support group or seeking out online resources for people with depression.\n\nIf you're feeling extremely negative or have thoughts of self-harm or suicide, it's important to seek immediate help. You can call the National Suicide Prevention Lifeline at 1-800-273-TALK (1-800-273-8255) or go to your nearest emergency room.\n\nRemember, depression is a treatable condition, and with the right help, you can start feeling better. I encourage you to take the first step and seek help today."
          },
          "metadata": {}
        },
        {
          "output_type": "stream",
          "name": "stdout",
          "text": [
            "\n",
            "\n",
            "\n"
          ]
        }
      ]
    },
    {
      "cell_type": "code",
      "source": [],
      "metadata": {
        "id": "pFf7lfEUoQV7"
      },
      "execution_count": null,
      "outputs": []
    }
  ]
}