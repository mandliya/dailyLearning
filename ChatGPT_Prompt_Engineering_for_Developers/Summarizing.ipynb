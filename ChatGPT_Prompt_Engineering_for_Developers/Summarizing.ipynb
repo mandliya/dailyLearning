{
  "nbformat": 4,
  "nbformat_minor": 0,
  "metadata": {
    "colab": {
      "provenance": [],
      "authorship_tag": "ABX9TyNE7B7ywyup+y8n+F8DZ40V",
      "include_colab_link": true
    },
    "kernelspec": {
      "name": "python3",
      "display_name": "Python 3"
    },
    "language_info": {
      "name": "python"
    }
  },
  "cells": [
    {
      "cell_type": "markdown",
      "metadata": {
        "id": "view-in-github",
        "colab_type": "text"
      },
      "source": [
        "<a href=\"https://colab.research.google.com/github/mandliya/dailyLearning/blob/main/ChatGPT_Prompt_Engineering_for_Developers/Summarizing.ipynb\" target=\"_parent\"><img src=\"https://colab.research.google.com/assets/colab-badge.svg\" alt=\"Open In Colab\"/></a>"
      ]
    },
    {
      "cell_type": "code",
      "execution_count": 6,
      "metadata": {
        "id": "mxpHHdxMIco7"
      },
      "outputs": [],
      "source": [
        "!pip install -qq openai\n",
        "!pip install -qq python-dotenv"
      ]
    },
    {
      "cell_type": "code",
      "source": [
        "import openai\n",
        "import os\n",
        "from IPython.display import display, Markdown, Latex\n",
        "\n",
        "from dotenv import load_dotenv\n",
        "_ = load_dotenv('env_colab')\n",
        "\n",
        "openai.api_key = os.getenv('OPENAI_API_KEY')"
      ],
      "metadata": {
        "id": "KiHUABNLIlfw"
      },
      "execution_count": 7,
      "outputs": []
    },
    {
      "cell_type": "code",
      "source": [
        "def get_completion(prompt, model=\"gpt-3.5-turbo\"):\n",
        "    messages = [{\"role\": \"user\", \"content\": prompt}]\n",
        "    response = openai.ChatCompletion.create(\n",
        "        model=model,\n",
        "        messages=messages,\n",
        "        temperature=0, # this is the degree of randomness of the model's output\n",
        "    )\n",
        "    return response.choices[0].message[\"content\"]"
      ],
      "metadata": {
        "id": "4avkePuZInjt"
      },
      "execution_count": 8,
      "outputs": []
    },
    {
      "cell_type": "markdown",
      "source": [
        "Summarization is one of the core NLP tasks and one of the core use cases of LLMs.\n",
        "\n",
        "## Text to Summarize\n",
        "\n",
        "Here we will work with a news article of Indian Cricket Team's world cup win in 2011.\n",
        "\n"
      ],
      "metadata": {
        "id": "Y8j9_LmDNCci"
      }
    },
    {
      "cell_type": "code",
      "source": [
        "text = \"\"\"\n",
        "MUMBAI: An inspired India on Saturday night regained the coveted World Cup after 28 years as they suppressed Sri Lanka with a six-wicket victory in a nerve-wrecking final to script a glorious new chapter in their cricketing history.Chasing 275 for a historic win, the Indians held their nerves as they rode on Gautam Gambhir's 97 and Mahendra Singh Dhoni's unbeaten 91 to overhaul the target with 10 balls to spare and send the cricket-crazy nation into a frenzy.\n",
        "The vociferous, jam-packed crowd at the Wankhede stadium erupted in wild celebrations as Dhoni hit the winning six runs to give India their biggest cricketing moment and crown themselves the ODI world champions, in addition to being the number one Test team.\n",
        "The World Cup title triumph, coming as it did after more than two decades, was doubly special for Sachin Tendulkar since it was the only silverware missing from his collection.\n",
        "It was also a fitting farewell to coach Gary Kirsten, for whom it was the last day in office as the Indian coach.\n",
        "It was a momentous Saturday night marked by high emotion and poignant scenes as India, for long the game's financial power, stamped their supremacy on the field as well, eight years after Sourav Ganguly's team had made an abortive attempt to scale the pinnacle.\n",
        "The players, many of them with tears in their eyes, rushed to the ground to hug each other as Dhoni finished it off in style by hitting a six, as fire crackers lit up the evening sky to mark the moment.\n",
        "The highlight of the Lankan innings was Mahela Jayawardene's rollicking 103 as Sri Lanka capitalised on the batting powerplay to post a decent 274 for six.\n",
        "Electing to bat after winning the toss, Jayawardene used his vast experience to good effect and anchored the Lankan innings together.\n",
        "The islanders, desperate to regain the coveted cup after nearly 15 years, lost wickets at regular intervals against the Indians, who were spurred on by a vociferous jam-packed crowd.\n",
        "The Indian bowlers were disciplined in the first half of the innings but conceded as many as 63 runs in the batting powerplay to undo all the good work.\n",
        "Apart from Jayawardene's 88-ball knock, captain Kumar Sangakkara (48) Tillakaratne Dilshan (33) and Nuwan Kulasekara (32) were the other notable performers.\n",
        "The Indian innings began on a disastrous note as the destructive Virender Sehwag was dismissed in the very second ball of the innings with paceman Lasith Malinga scalping the prized wicket.\n",
        "Sehwag was hit on the pads by an incoming delivery by Malinga as he went for a flick. Umpire Aleem Dar ruled him out before he asked for review but television replays showed that the ball would have hit the stumps.\n",
        "Tendulkar, playing in what probably is his last World Cup game, entertained his home crowd with a couple of delightful boundaries while Gambhir also looked for runs at the other end.\n",
        "The Indians suffered a huge jolt went Malinga struck again by dismissing the champion batsman as he snicked an away-going delivery and captain Sangakkara latched on to a low catch. A hushed silence descended on the Wankhede stadium as he started his walk back to the pavilion.\n",
        "Gambhir drove Kulasekara for a boundary in the extra cover region to notch up 4000 ODI runs while Virat Kohli also pulled the bowler to the boundary in the same over.\n",
        "Gambhir was lucky to get a reprieve in spinner Suraj Randiv's first over when Kulasekara dropped him at the long off region.\n",
        "The third-wicket pair of Gambhir and Kohli put on 83 runs before Dilshan broke the partnership by taking a brilliant acrobatic return catch.\n",
        "The out-of-form Dhoni came ahead of Yuvraj to keep the left-right combination going and was immediately given two 'lives' by the Lankans -- first Sangakkara messing up a stumping chance off Muralitharan and then Dilshan dropping a return catch as he collided with non-striker Gambhir.\n",
        "Dhoni, however, made the most of the Sri Lankan lapses to rediscover his form which had deserted him in the mega event.\n",
        "Dhoni and Gambhir scored at a brisk pace to keep India in the hunt.\n",
        "The pair stitched 109 runs for the fourth wicket before Gambhir paid the price for a horrendous stroke, just three runs short of what would have been a well-deserved century.\n",
        "Gambhir made room to cut the ball but missed it completely to see his stumps dislodged.\n",
        "Earlier, both the Indian new ball bowlers bowled a tidy line and length and did not allow the Sri Lankan openers to get off to a flying start while the fielding was also sharp.\n",
        "Pace spearhead Zaheer's first three overs were maidens and that put some pressure on the two Lankan openers who were not being able to capitalise on the powerplay overs.\n",
        "Dilshan broke the stranglehold by hitting the first boundary of the innings in the 5th over by pulling Sreesanth to the square leg fence.\n",
        "In the same over, he produced a delightful cut to the point for his second boundary.\n",
        "Tharanga looked completely out of sorts at the other end as he found it difficult to find the gaps as Zaheer bowled a searching length right through his opening spell.\n",
        "Zaheer drew first blood in his fourth over by evicting Tharanga with an outgoing delivery and Virender Sehwag holding on to diving catch at first slip much to the delight of a capacity crowd at the stadium. Tharanga scored just two runs off 20 balls.\n",
        "The Lankans could manage just 31 runs in the first ten overs, their lowest in the tournament. That was largely because of Zaheer's excellent first spell of 5-3-6-1.\n",
        "Dilshan and Sangakkara put on 43 runs for the second wicket before Harbhajan Singh struck for his team by getting rid of Dilshan (33), who scored 500 runs in the tournament.\n",
        "Dilshan went for a sweep but the ball hit his gloves and lobbed onto his stumps to trigger off wild celebrations in the galleries.\n",
        "Sangakkara and Jayawardene then took upon themselves the task of rebuilding the innings and the duo scored at a decent pace to steer the team to a comfortable position.\n",
        "Yuvraj Singh, who had a dream tournament with both the bat and the ball, was introduced into the attack in the 22nd over but the two experienced batsmen were not really troubled by his left arm spin.\n",
        "It was Yuvraj who finally broke the 62-run third wicket partnership which was assuming dangerous proportions by dismissing Sangakkara who tried to cut a wide ball outside the off stump but only succeeded in edging the ball to Dhoni behind the stump. His knock of 48 came off 67 balls and contained five boundaries.\n",
        "It was left to the well-settled Jayawardene to hold the innings together and he found an able ally in Thilan Samaraweera to take the Sri Lankan total close to the 180 mark.\n",
        "Yuvraj was again instrumental in breaking the fourth- wicket partnership by accounting for Samaraweera. Umpire Simon Taufel turned down the leg before appeal but the Indians went for the referral and television replays showed that the ball would have hit the stumps.\n",
        "New batsman Chamara Kapugedera did not survive long as he offered a simple catch to Suresh Raina at extra cover off a slower delivery from Zaheer, leaving the visitors in a spot of bother at 182 for five.\n",
        "Jayawardene and Nuwan Kulasekara then teamed up ensure that Sri Lanka had a competitive total on the board as they went about accumulating runs in the batting powerplay, which was taken in the last five overs.\n",
        "Teams: India: Mahendra Singh Dhoni (capt), Virender Sehwag, Gautam Gambhir, Sachin Tendulkar, Virat Kohli, Yuvraj Singh, Suresh Raina, Harbhajan Singh, Zaheer Khan, Shanthakumaran Sreesanth, Munaf Patel.\n",
        "Sri Lanka: Kumar Sangakkara (capt), Mahela Jayawardene, Upul Tharanga, Tillakaratne Dilshan, Thilan Samaraweera, Chamara Kapugedera, Suraj Randiv, Thisara Perera, Nuwan Kulasekara, Lasith Malinga, Muttiah Muralitharan.\n",
        "Umpires: Simon Taufel (AUS) and Aleem Dar (PAK)\n",
        "TV umpire: Ian Gould (ENG)\n",
        "Match referee: Jeff Crowe (NZL)\n",
        "\"\"\""
      ],
      "metadata": {
        "id": "dAywqxNhIppx"
      },
      "execution_count": 9,
      "outputs": []
    },
    {
      "cell_type": "markdown",
      "source": [
        "## Summarize with word/sentence/character limit.\n",
        "\n",
        "Model tries to match the specific word/character limits, but it often fails to do so."
      ],
      "metadata": {
        "id": "A36b5R5ANdpi"
      }
    },
    {
      "cell_type": "code",
      "source": [
        "prompt = f\"\"\"\n",
        "Your task is to generate a short summary of the text from a news article.\n",
        "Summarize the text below, delimited by triple backticks, in at most 30 words.\n",
        "Text: ```{text}```\n",
        "\"\"\"\n",
        "response = get_completion(prompt)\n",
        "display(Markdown(response))"
      ],
      "metadata": {
        "colab": {
          "base_uri": "https://localhost:8080/",
          "height": 98
        },
        "id": "p0gxeOqbNXXl",
        "outputId": "c93325e4-1a76-4e13-abff-5cd53b0ce879"
      },
      "execution_count": 11,
      "outputs": [
        {
          "output_type": "display_data",
          "data": {
            "text/plain": [
              "<IPython.core.display.Markdown object>"
            ],
            "text/markdown": "India won the 2011 Cricket World Cup, defeating Sri Lanka by six wickets in the final. Gautam Gambhir scored 97 and Mahendra Singh Dhoni scored an unbeaten 91 to help India chase down Sri Lanka's target of 275 with 10 balls to spare. The victory was India's first World Cup win in 28 years and was doubly special for Sachin Tendulkar, who had never won the tournament before."
          },
          "metadata": {}
        }
      ]
    },
    {
      "cell_type": "code",
      "source": [
        "len(response.split(' '))"
      ],
      "metadata": {
        "colab": {
          "base_uri": "https://localhost:8080/"
        },
        "id": "foLZXnE9N19Z",
        "outputId": "e25318d6-661c-4b7c-88de-520ef87d1c3b"
      },
      "execution_count": 12,
      "outputs": [
        {
          "output_type": "execute_result",
          "data": {
            "text/plain": [
              "68"
            ]
          },
          "metadata": {},
          "execution_count": 12
        }
      ]
    },
    {
      "cell_type": "code",
      "source": [
        "prompt = f\"\"\"\n",
        "Your task is to generate a short summary of the text from a news article.\n",
        "Summarize the text below, delimited by triple backticks, in at most 100 characters.\n",
        "Text: ```{text}```\n",
        "\"\"\"\n",
        "response = get_completion(prompt)\n",
        "display(Markdown(response))"
      ],
      "metadata": {
        "colab": {
          "base_uri": "https://localhost:8080/",
          "height": 64
        },
        "id": "akUCD85mOfB8",
        "outputId": "2bb5a581-6ea9-433f-86a6-34f36535842b"
      },
      "execution_count": 14,
      "outputs": [
        {
          "output_type": "display_data",
          "data": {
            "text/plain": [
              "<IPython.core.display.Markdown object>"
            ],
            "text/markdown": "India wins Cricket World Cup after 28 years with a six-wicket victory over Sri Lanka, led by Gautam Gambhir and Mahendra Singh Dhoni."
          },
          "metadata": {}
        }
      ]
    },
    {
      "cell_type": "markdown",
      "source": [
        "## Summarization with focus.\n",
        "\n",
        "Let's focus on certain specific topic say Indian bowling."
      ],
      "metadata": {
        "id": "q9LImthfOsw3"
      }
    },
    {
      "cell_type": "code",
      "source": [
        "prompt = f\"\"\"\n",
        "Your task is to generate a short summary of the text from a news article.\n",
        "Summarize the text below, delimited by triple backticks, in at most 30 \\\n",
        "words. Focus on any aspects of Indian bowling.\n",
        "Text: ```{text}```\n",
        "\"\"\"\n",
        "response = get_completion(prompt)\n",
        "display(Markdown(response))"
      ],
      "metadata": {
        "colab": {
          "base_uri": "https://localhost:8080/",
          "height": 81
        },
        "id": "mzGYTLTiONjf",
        "outputId": "555900dd-cd7c-48b0-82a7-4657ed388643"
      },
      "execution_count": 16,
      "outputs": [
        {
          "output_type": "display_data",
          "data": {
            "text/plain": [
              "<IPython.core.display.Markdown object>"
            ],
            "text/markdown": "India won the 2011 Cricket World Cup after 28 years, with Gautam Gambhir and Mahendra Singh Dhoni leading the chase against Sri Lanka. The Indian bowlers were disciplined in the first half of the innings but conceded as many as 63 runs in the batting powerplay to undo all the good work."
          },
          "metadata": {}
        }
      ]
    },
    {
      "cell_type": "markdown",
      "source": [
        "Let's try focus on Team Sri Lanka."
      ],
      "metadata": {
        "id": "_meBxyiKPOJ6"
      }
    },
    {
      "cell_type": "code",
      "source": [
        "prompt = f\"\"\"\n",
        "Your task is to generate a short summary of the text from a news article.\n",
        "Summarize the text below, delimited by triple backticks, in at most 30 \\\n",
        "words. Focus on any aspects of Team Sri Lanka's batting.\n",
        "Text: ```{text}```\n",
        "\"\"\"\n",
        "response = get_completion(prompt)\n",
        "display(Markdown(response))"
      ],
      "metadata": {
        "colab": {
          "base_uri": "https://localhost:8080/",
          "height": 64
        },
        "id": "SXlykibCPCR9",
        "outputId": "fb62b71a-5191-4d19-f083-36a0aca61e01"
      },
      "execution_count": 18,
      "outputs": [
        {
          "output_type": "display_data",
          "data": {
            "text/plain": [
              "<IPython.core.display.Markdown object>"
            ],
            "text/markdown": "India won the 2011 Cricket World Cup, with Gautam Gambhir and Mahendra Singh Dhoni leading the batting to chase down Sri Lanka's 274 with 10 balls to spare. Mahela Jayawardene's 103 was the highlight of Sri Lanka's innings."
          },
          "metadata": {}
        }
      ]
    },
    {
      "cell_type": "code",
      "source": [
        "prompt = f\"\"\"\n",
        "Your task is to generate a short summary of the text from a news article.\n",
        "Summarize the text below, delimited by triple backticks, in at most 30 \\\n",
        "words. Focus on any aspects celebrations.\n",
        "Text: ```{text}```\n",
        "\"\"\"\n",
        "response = get_completion(prompt)\n",
        "display(Markdown(response))"
      ],
      "metadata": {
        "colab": {
          "base_uri": "https://localhost:8080/",
          "height": 81
        },
        "id": "53sTWGxiPcsd",
        "outputId": "2bd7e4c8-0ba5-4d46-be47-908854b625f9"
      },
      "execution_count": 22,
      "outputs": [
        {
          "output_type": "display_data",
          "data": {
            "text/plain": [
              "<IPython.core.display.Markdown object>"
            ],
            "text/markdown": "India won the 2011 Cricket World Cup, defeating Sri Lanka by six wickets in the final. The victory was celebrated by a jam-packed crowd at the Wankhede stadium in Mumbai, with Mahendra Singh Dhoni hitting the winning six runs. The win was doubly special for Sachin Tendulkar, who had never won the World Cup before."
          },
          "metadata": {}
        }
      ]
    },
    {
      "cell_type": "markdown",
      "source": [
        "## Try \"extract\" instead of \"summarize\""
      ],
      "metadata": {
        "id": "qWWbyZDyQJVt"
      }
    },
    {
      "cell_type": "code",
      "source": [
        "prompt = f\"\"\"\n",
        "Your task is to extract relevant information from the new article text.\n",
        "From the text below, delimited by triple backticks, give me information \\\n",
        "relevant to umpires in the match. Limit to 30 words.\n",
        "\n",
        "Text: {text}\n",
        "\"\"\"\n",
        "\n",
        "response = get_completion(prompt)\n",
        "display(Markdown(response))"
      ],
      "metadata": {
        "colab": {
          "base_uri": "https://localhost:8080/",
          "height": 46
        },
        "id": "zo1OhlnYPqxQ",
        "outputId": "5155b398-e05d-4e57-8c64-876af32ed5ad"
      },
      "execution_count": 24,
      "outputs": [
        {
          "output_type": "display_data",
          "data": {
            "text/plain": [
              "<IPython.core.display.Markdown object>"
            ],
            "text/markdown": "Umpires for the match were Simon Taufel (AUS) and Aleem Dar (PAK), with Ian Gould (ENG) as the TV umpire."
          },
          "metadata": {}
        }
      ]
    },
    {
      "cell_type": "code",
      "source": [],
      "metadata": {
        "id": "KJ04bcoJQiFz"
      },
      "execution_count": null,
      "outputs": []
    }
  ]
}